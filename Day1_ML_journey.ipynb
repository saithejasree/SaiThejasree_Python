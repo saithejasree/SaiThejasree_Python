{
  "nbformat": 4,
  "nbformat_minor": 0,
  "metadata": {
    "colab": {
      "provenance": []
    },
    "kernelspec": {
      "name": "python3",
      "display_name": "Python 3"
    },
    "language_info": {
      "name": "python"
    }
  },
  "cells": [
    {
      "cell_type": "code",
      "execution_count": null,
      "metadata": {
        "colab": {
          "base_uri": "https://localhost:8080/"
        },
        "id": "HpmbKqI7jltH",
        "outputId": "0ec1bf68-5f68-4ec7-f746-ea081ec8cab5"
      },
      "outputs": [
        {
          "output_type": "stream",
          "name": "stdout",
          "text": [
            "hello world\n"
          ]
        }
      ],
      "source": [
        "print(\"hello world\")"
      ]
    },
    {
      "cell_type": "code",
      "source": [
        "print(\"Sai Thejasree\")"
      ],
      "metadata": {
        "colab": {
          "base_uri": "https://localhost:8080/"
        },
        "id": "-YyRfJMp38FT",
        "outputId": "11956cef-72b0-4780-db3f-1d688dc742bf"
      },
      "execution_count": null,
      "outputs": [
        {
          "output_type": "stream",
          "name": "stdout",
          "text": [
            "Sai Thejasree\n"
          ]
        }
      ]
    },
    {
      "cell_type": "code",
      "source": [
        "print(\"Sai \")"
      ],
      "metadata": {
        "id": "34ZbDQBAxLWX",
        "colab": {
          "base_uri": "https://localhost:8080/"
        },
        "outputId": "a620b810-d464-421f-a3ab-caf77a6ba536"
      },
      "execution_count": 1,
      "outputs": [
        {
          "output_type": "stream",
          "name": "stdout",
          "text": [
            "Sai \n"
          ]
        }
      ]
    },
    {
      "cell_type": "code",
      "source": [
        "print(\"hello world\")"
      ],
      "metadata": {
        "colab": {
          "base_uri": "https://localhost:8080/"
        },
        "id": "hQO-NwBb7oC6",
        "outputId": "e01855db-ef08-4ba8-f719-95166adcfaff"
      },
      "execution_count": 2,
      "outputs": [
        {
          "output_type": "stream",
          "name": "stdout",
          "text": [
            "hello world\n"
          ]
        }
      ]
    },
    {
      "cell_type": "code",
      "source": [
        "a=100 #below snippets is example of memory efficiency in pythn\n",
        "print (id (a))"
      ],
      "metadata": {
        "colab": {
          "base_uri": "https://localhost:8080/"
        },
        "id": "nKSm3oBuHVlN",
        "outputId": "e58cedf3-da51-4e6a-c8df-256eb130da08"
      },
      "execution_count": 3,
      "outputs": [
        {
          "output_type": "stream",
          "name": "stdout",
          "text": [
            "10754024\n"
          ]
        }
      ]
    },
    {
      "cell_type": "code",
      "source": [
        "b=100\n",
        "print (id(b))"
      ],
      "metadata": {
        "colab": {
          "base_uri": "https://localhost:8080/"
        },
        "id": "KAaNShgfHb3Q",
        "outputId": "61db83ee-7a4d-4aba-b1dd-351de0862e13"
      },
      "execution_count": 4,
      "outputs": [
        {
          "output_type": "stream",
          "name": "stdout",
          "text": [
            "10754024\n"
          ]
        }
      ]
    },
    {
      "cell_type": "code",
      "source": [
        "a = 500\n",
        "print(id(a))"
      ],
      "metadata": {
        "colab": {
          "base_uri": "https://localhost:8080/"
        },
        "id": "-Oh2xO-lKirX",
        "outputId": "7f2c4f0d-dd89-4dbb-ccf8-3ce942010db5"
      },
      "execution_count": 8,
      "outputs": [
        {
          "output_type": "stream",
          "name": "stdout",
          "text": [
            "139173264467440\n"
          ]
        }
      ]
    },
    {
      "cell_type": "code",
      "source": [
        "b = a\n",
        "print(id(b))"
      ],
      "metadata": {
        "colab": {
          "base_uri": "https://localhost:8080/"
        },
        "id": "OtEQcEIdKndU",
        "outputId": "c6b52158-24d8-4a2b-dfff-0cb696ae430a"
      },
      "execution_count": 9,
      "outputs": [
        {
          "output_type": "stream",
          "name": "stdout",
          "text": [
            "139173264467440\n"
          ]
        }
      ]
    },
    {
      "cell_type": "code",
      "source": [
        "a,b,c = 10, 20, 30 #Variable Assignments\n",
        "print(a,b,c)"
      ],
      "metadata": {
        "colab": {
          "base_uri": "https://localhost:8080/"
        },
        "id": "3fB6iZY_KxHU",
        "outputId": "89edb937-1035-4188-cf06-3c6a1afd043a"
      },
      "execution_count": 10,
      "outputs": [
        {
          "output_type": "stream",
          "name": "stdout",
          "text": [
            "10 20 30\n"
          ]
        }
      ]
    },
    {
      "cell_type": "code",
      "source": [
        "a=b=c=10\n",
        "print(a,b,c)"
      ],
      "metadata": {
        "colab": {
          "base_uri": "https://localhost:8080/"
        },
        "id": "w4RWCT2ZHhAL",
        "outputId": "f5ff04fd-31cd-40d2-ead1-1b6a94ef1e20"
      },
      "execution_count": 5,
      "outputs": [
        {
          "output_type": "stream",
          "name": "stdout",
          "text": [
            "10 10 10\n"
          ]
        }
      ]
    },
    {
      "cell_type": "code",
      "source": [
        "a=10\n",
        "b=10\n",
        "c=10\n",
        "print(a,b,c)\n"
      ],
      "metadata": {
        "colab": {
          "base_uri": "https://localhost:8080/"
        },
        "id": "8yfLHe3XIZoZ",
        "outputId": "73af51e1-65a2-4376-9873-8e8837044917"
      },
      "execution_count": 6,
      "outputs": [
        {
          "output_type": "stream",
          "name": "stdout",
          "text": [
            "10 10 10\n"
          ]
        }
      ]
    },
    {
      "cell_type": "code",
      "source": [
        "import keyword as kw\n",
        "print(kw.kwlist)  #it lists all the keywords"
      ],
      "metadata": {
        "colab": {
          "base_uri": "https://localhost:8080/"
        },
        "id": "CCy9AFflIe0Y",
        "outputId": "076bfdf3-2a5a-4767-b28f-de1df72db105"
      },
      "execution_count": 7,
      "outputs": [
        {
          "output_type": "stream",
          "name": "stdout",
          "text": [
            "['False', 'None', 'True', 'and', 'as', 'assert', 'async', 'await', 'break', 'class', 'continue', 'def', 'del', 'elif', 'else', 'except', 'finally', 'for', 'from', 'global', 'if', 'import', 'in', 'is', 'lambda', 'nonlocal', 'not', 'or', 'pass', 'raise', 'return', 'try', 'while', 'with', 'yield']\n"
          ]
        }
      ]
    },
    {
      "cell_type": "code",
      "source": [
        "False = 10 #Example that keywords cannot be used as variable name\n",
        "print(False)"
      ],
      "metadata": {
        "colab": {
          "base_uri": "https://localhost:8080/",
          "height": 106
        },
        "id": "qgg1gN09LUmO",
        "outputId": "4ac64d35-58c6-4618-c3b8-6cc93dbc38a4"
      },
      "execution_count": 11,
      "outputs": [
        {
          "output_type": "error",
          "ename": "SyntaxError",
          "evalue": "cannot assign to False (<ipython-input-11-a4c0c92eeec0>, line 1)",
          "traceback": [
            "\u001b[0;36m  File \u001b[0;32m\"<ipython-input-11-a4c0c92eeec0>\"\u001b[0;36m, line \u001b[0;32m1\u001b[0m\n\u001b[0;31m    False = 10\u001b[0m\n\u001b[0m    ^\u001b[0m\n\u001b[0;31mSyntaxError\u001b[0m\u001b[0;31m:\u001b[0m cannot assign to False\n"
          ]
        }
      ]
    },
    {
      "cell_type": "code",
      "source": [
        "#Multiline comment\n",
        "\n",
        "\"\"\"cadad xcajdc\n",
        "xcjadcaj\n",
        "asjasj\"\"\"\n",
        "print (\"Hi\")"
      ],
      "metadata": {
        "id": "ftkgfkndL0T4",
        "outputId": "8a2c870f-be00-4e74-b8d9-a7376b56ee55",
        "colab": {
          "base_uri": "https://localhost:8080/"
        }
      },
      "execution_count": 13,
      "outputs": [
        {
          "output_type": "stream",
          "name": "stdout",
          "text": [
            "Hi\n"
          ]
        }
      ]
    },
    {
      "cell_type": "code",
      "source": [
        "#python string rep, Accepts single and double quotes\n",
        "\n",
        "a= 'NTT'\n",
        "b= \"Data\"\n",
        "print (a,b)"
      ],
      "metadata": {
        "id": "-xbI8bQ3M5O1",
        "outputId": "85e8d9e1-955c-4587-bdce-de3ecdbe29b2",
        "colab": {
          "base_uri": "https://localhost:8080/"
        }
      },
      "execution_count": 14,
      "outputs": [
        {
          "output_type": "stream",
          "name": "stdout",
          "text": [
            "NTT Data\n"
          ]
        }
      ]
    },
    {
      "cell_type": "code",
      "source": [
        "#Multi Line string enclosed withing triple quotes\n",
        "\n",
        "st = \"\"\"\"aacdda sdah\n",
        "ascajdc sadhq\n",
        "asdha sdhqj asj\"\"\"\n",
        "print(st)"
      ],
      "metadata": {
        "id": "d-shVtAuNLVv",
        "outputId": "b4bfe9c4-8786-4e99-c66d-384b96e62f76",
        "colab": {
          "base_uri": "https://localhost:8080/"
        }
      },
      "execution_count": 15,
      "outputs": [
        {
          "output_type": "stream",
          "name": "stdout",
          "text": [
            "\"aacdda sdah\n",
            "ascajdc sadhq\n",
            "asdha sdhqj asj\n"
          ]
        }
      ]
    }
  ]
}